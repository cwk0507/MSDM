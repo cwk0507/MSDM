{
 "cells": [
  {
   "cell_type": "markdown",
   "metadata": {},
   "source": [
    "1. Please use broadcasting or other methods to speed up the following simulation codes. You need to roughly speed it up 5 times as the minimum requirement. (Without speedup, the time used in my computer is 137 seconds, and the improved code uses only 27 seconds.)"
   ]
  },
  {
   "cell_type": "code",
   "execution_count": null,
   "metadata": {},
   "outputs": [],
   "source": []
  },
  {
   "cell_type": "markdown",
   "metadata": {},
   "source": [
    "2. Similar to `range()`, define a custom function `arange()` that can also accept floating point numbers with optional arguments (start, stop, step) and return a list that contains a sequence of numbers from start (inclusive) to stop (exclusive) by step. Do not use `numpy.arange()` for practicing. The function can automatically change the default step from 1 to -1 when implied. The user will repeatedly input the function to evaluate (quit upon error). Your output should look like this:\n",
    "\n",
    "\n",
    "    Enter an expression with arange(): arange(stop=0)\n",
    "    []\n",
    "    Enter an expression with arange(): arange(stop=5)\n",
    "    [0, 1, 2, 3, 4]\n",
    "    Enter an expression with arange(): arange(stop=-5)\n",
    "    [0, -1, -2, -3, -4]\n",
    "    Enter an expression with arange(): arange(stop=5.1)\n",
    "    [0.0, 1.0, 2.0, 3.0, 4.0, 5.0]\n",
    "    Enter an expression with arange(): arange(-1.1,1.1)\n",
    "    [-1.1, -0.1, 0.9]\n",
    "    Enter an expression with arange(): arange(1.1,-1.1)\n",
    "    [1.1, 0.1, -0.9]\n",
    "    Enter an expression with arange(): arange(-1,1,0.9)\n",
    "    [-1.0, -0.1, 0.8]\n",
    "    Enter an expression with arange(): arange(1,-1,-1/3)\n",
    "    [1.0, 0.6666666666666666, 0.3333333333333333, 0.0, -0.3333333333333333, -0.6666666666666666]\n",
    "    Enter an expression with arange(): [i*2 for i in arange(1,2,0.2)]\n",
    "    [2.0, 2.4, 2.8, 3.2, 3.6]\n",
    "    Enter an expression with arange(): "
   ]
  },
  {
   "cell_type": "code",
   "execution_count": null,
   "metadata": {},
   "outputs": [],
   "source": []
  },
  {
   "cell_type": "markdown",
   "metadata": {},
   "source": [
    "3. An identity matrix is defined as a square matrix with 1s running from the top left of the square to the bottom right and the rest are 0s. Create a numpy.ndarray that takes an integer n and print the identity matrix of n x n dimensions. For this question, if the integer is negative, return the mirror image of the identity matrix of n x n dimensions. It does not matter if the mirror image is left-right or top-bottom. Incompatible types passed as n should return the string \"Error\". Your output should look like one of these:\n",
    "\n",
    "\n",
    "    Enter dimension of identity matrix: 0\n",
    "    []\n",
    "***\n",
    "    Enter dimension of identity matrix: 2\n",
    "    [[1 0]\n",
    "     [0 1]]\n",
    "***\n",
    "    Enter dimension of identity matrix: -2\n",
    "    [[0 1]\n",
    "     [1 0]]"
   ]
  },
  {
   "cell_type": "code",
   "execution_count": null,
   "metadata": {},
   "outputs": [],
   "source": []
  },
  {
   "cell_type": "markdown",
   "metadata": {},
   "source": [
    "4. Create a 3x3 matrix of a tic-tac-toe game as numpy.ndarray called `TicTacToe` and print it out for every turn. All the matrix elements are zeros (0) at first and then filled randomly in position by one (1) first and then two (2) alternatively. The game ends and display \"1 wins\" or \"2 wins\" when either side wins the game or \"Draw\" when completely filled without a winner. Your output should look like this:\n",
    "\n",
    "\n",
    "    [[0 0 0]\n",
    "     [0 0 0]\n",
    "     [0 0 0]]\n",
    "    After turn 1:\n",
    "    [[0 0 0]\n",
    "     [0 0 0]\n",
    "     [1 0 0]]\n",
    "    After turn 2:\n",
    "    [[0 0 0]\n",
    "     [0 2 0]\n",
    "     [1 0 0]]\n",
    "    After turn 3:\n",
    "    [[0 1 0]\n",
    "     [0 2 0]\n",
    "     [1 0 0]]\n",
    "    After turn 4:\n",
    "    [[0 1 0]\n",
    "     [2 2 0]\n",
    "     [1 0 0]]\n",
    "    After turn 5:\n",
    "    [[1 1 0]\n",
    "     [2 2 0]\n",
    "     [1 0 0]]\n",
    "    After turn 6:\n",
    "    [[1 1 0]\n",
    "     [2 2 2]\n",
    "     [1 0 0]]\n",
    "    2 wins"
   ]
  },
  {
   "cell_type": "code",
   "execution_count": null,
   "metadata": {},
   "outputs": [],
   "source": []
  },
  {
   "cell_type": "markdown",
   "metadata": {},
   "source": [
    "5. Now add some AI to question 4 to override choosing a place randomly for each turn in the tic-tac-toe game. First, see if there is a place to take that will win the game. If there is, take that place. Otherwise, see if there is a place the other side can take that will win the game. If there is, take there to block the other side. Otherwise, continue with the randomly selected place remaining. Run the simulation until 1 second is reached. Your output should look like this:\n",
    "\n",
    "\n",
    "    Probability of 1 wins: \n",
    "    Probability of 2 wins: \n",
    "    Probability of draw: \n",
    "    Games completed: \n",
    "    Simulation time: "
   ]
  },
  {
   "cell_type": "code",
   "execution_count": null,
   "metadata": {},
   "outputs": [],
   "source": []
  },
  {
   "cell_type": "markdown",
   "metadata": {},
   "source": [
    "6. A cereal company is giving away a prize in each box of cereal and they advertise \"Collect all 10 prizes!\". Each box of cereal has 1 prize, and each prize is equally likely to appear in any given box. Estimate how many boxes it takes, on average, to get N different prizes using simulation for just 0.1 second for each N. Your output should look like this:\n",
    "\n",
    "\n",
    "    Total simulation time:\n",
    "    \n",
    "    N    Average boxes    \n",
    "    1    1.0\n",
    "    2"
   ]
  },
  {
   "cell_type": "code",
   "execution_count": null,
   "metadata": {},
   "outputs": [],
   "source": []
  }
 ],
 "metadata": {
  "kernelspec": {
   "display_name": "Python 3",
   "language": "python",
   "name": "python3"
  },
  "language_info": {
   "codemirror_mode": {
    "name": "ipython",
    "version": 3
   },
   "file_extension": ".py",
   "mimetype": "text/x-python",
   "name": "python",
   "nbconvert_exporter": "python",
   "pygments_lexer": "ipython3",
   "version": "3.7.6"
  }
 },
 "nbformat": 4,
 "nbformat_minor": 4
}
