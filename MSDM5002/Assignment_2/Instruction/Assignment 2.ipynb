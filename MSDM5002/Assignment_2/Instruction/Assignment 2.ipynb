{
 "cells": [
  {
   "cell_type": "markdown",
   "metadata": {},
   "source": [
    "We have two integer numbers. We know both numbers are larger than 1, and their sum is smaller than 100.  \n",
    "Person A only knows the summation of these two numbers, and person B only knows the\n",
    "product of these two numbers. Then, below is a very interesting conversion between\n",
    "A and B (both are telling the truth).  \n",
    "B: I don’t know the values of the two numbers.  \n",
    "A: I know you don’t know the values of the two numbers.  \n",
    "B: Now, I know the values of the two numbers.  \n",
    "A: If you know, I also know the values of these two numbers now.  \n",
    "What are the values of these two numbers?\n",
    "You need to write a python code to search for and output the right results of this logical puzzle."
   ]
  },
  {
   "cell_type": "code",
   "execution_count": 1,
   "metadata": {},
   "outputs": [],
   "source": [
    "# Your Code Here\n"
   ]
  },
  {
   "cell_type": "markdown",
   "metadata": {},
   "source": [
    "Given a string, write `check(s)` to check if the opening brackets \"(\" and closing brackets \")\" match each other and the number of matched pairs. Here we only consider this type of parenthesis pairs. However, do not use any recursive function. Your output should look like either of these:\n",
    "\n",
    "Check parentheses: (a(b(c)))  \n",
    "3 matched pairs  \n",
    "True\n",
    "***\n",
    "Check parentheses: (a))(  \n",
    "1 matched pairs  \n",
    "False"
   ]
  },
  {
   "cell_type": "code",
   "execution_count": 2,
   "metadata": {},
   "outputs": [],
   "source": [
    "# Your Code Here\n"
   ]
  },
  {
   "cell_type": "markdown",
   "metadata": {},
   "source": [
    "We assume a linked list node is defined as:\n",
    "\n",
    "        class Node():\n",
    "            def __init__(self, data):\n",
    "                self.next = None\n",
    "                self.data = data\n",
    "Construct the input linked list and write a function `duplicate(head)` to duplicate a linked list (in-place). Here `head` is the id of the head node of a linked list. You should consider corner cases such as an empty linked list with `head = None`. Your output should look like this:\n",
    "\n",
    "Enter a linked list: 0 -> 1 -> 2  \n",
    "Duplicated linked list: 0 -> 1 -> 2 -> 0 -> 1 -> 2"
   ]
  },
  {
   "cell_type": "code",
   "execution_count": 3,
   "metadata": {},
   "outputs": [],
   "source": [
    "# Your Code Here\n"
   ]
  },
  {
   "cell_type": "markdown",
   "metadata": {},
   "source": [
    "Write a function `revert(head)` to revert the linked list (in-place). Your output should look like this:\n",
    "\n",
    "The reverted linked list is 2 -> 1 -> 0 -> 2 -> 1 -> 0."
   ]
  },
  {
   "cell_type": "code",
   "execution_count": 4,
   "metadata": {},
   "outputs": [],
   "source": [
    "# Your Code Here\n"
   ]
  },
  {
   "cell_type": "markdown",
   "metadata": {},
   "source": [
    "An airplane took off on 3 June 2020 at 9:24:51 pm GMT+9 and landed on 4 June 2020 at 12:27:42 am GMT+8 from a latitude and longitude of (35.769, 140.372) to (22.321, 113.928). Use the `datetime` module to calculate the flight duration. Print out the flight duration in hour:minute:second, straight-line distance in km and average speed in kph. Your output should look like this:\n",
    "\n",
    "Duration:  \n",
    "Distance:  \n",
    "Speed:  "
   ]
  },
  {
   "cell_type": "code",
   "execution_count": 5,
   "metadata": {},
   "outputs": [],
   "source": [
    "# Your Code Here\n"
   ]
  },
  {
   "cell_type": "markdown",
   "metadata": {},
   "source": [
    "Given the following record below (Email, Join Time, Leave Time), write a program to read the record as a whole and a (similar to Excel) function `SUMIF(emails,itsc,duration)` where `emails` takes the whole Email column in the record, `itsc` is any given user name before \"@connect.ust.hk\" and `duration` are all the time differences. Calculate the duration from the Join Time and Leave Time columns using the `datetime` module. The function should return the total duration in minutes recorded for the given user. Upon entering all the user names, the program should print out the attendance table in alphabetic order.\n",
    "***\n",
    "jzhongaj@connect.ust.hk\t09/08/2020 19:09:01\t09/08/2020 19:10:34  \n",
    "bchenas@connect.ust.hk\t09/08/2020 19:14:01\t09/08/2020 19:20:24  \n",
    "bchenas@connect.ust.hk\t09/08/2020 19:04:26\t09/08/2020 19:13:14  \n",
    "jzhongaj@connect.ust.hk\t09/08/2020 18:57:42\t09/08/2020 19:08:32  \n",
    "jzhongaj@connect.ust.hk\t09/08/2020 21:40:51\t09/08/2020 21:56:06  \n",
    "cklauau@connect.ust.hk\t09/08/2020 18:57:04\t09/08/2020 19:55:22  \n",
    "cklauau@connect.ust.hk\t09/08/2020 19:51:57\t09/08/2020 21:55:43  \n",
    "jzhongaj@connect.ust.hk\t09/08/2020 19:10:43\t09/08/2020 21:40:39  \n",
    "bchenas@connect.ust.hk\t09/08/2020 19:20:38\t09/08/2020 21:55:55  \n",
    "cguoaj@connect.ust.hk\t09/08/2020 18:56:45\t09/08/2020 21:55:57  \n",
    "***\n",
    "Your output should look like this:\n",
    "\n",
    "Enter all the student itsc:\n",
    "bchenas\n",
    "cguoaj\n",
    "jzhongaj\n",
    "cklauau\n",
    "absentee\n",
    "\n",
    "    absentee    0\n",
    "    bchenas   172\n",
    "    cguoaj    180\n",
    "    cklauau   183\n",
    "    jzhongaj  179"
   ]
  },
  {
   "cell_type": "code",
   "execution_count": 6,
   "metadata": {},
   "outputs": [],
   "source": [
    "# Your Code Here\n"
   ]
  }
 ],
 "metadata": {
  "kernelspec": {
   "display_name": "Python 3",
   "language": "python",
   "name": "python3"
  },
  "language_info": {
   "codemirror_mode": {
    "name": "ipython",
    "version": 3
   },
   "file_extension": ".py",
   "mimetype": "text/x-python",
   "name": "python",
   "nbconvert_exporter": "python",
   "pygments_lexer": "ipython3",
   "version": "3.7.6"
  }
 },
 "nbformat": 4,
 "nbformat_minor": 4
}
