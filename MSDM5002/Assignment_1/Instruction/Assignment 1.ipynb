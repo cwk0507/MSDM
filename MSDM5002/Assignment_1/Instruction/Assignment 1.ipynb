{
 "cells": [
  {
   "cell_type": "markdown",
   "metadata": {},
   "source": [
    "1. Write a welcome program that asks for the name of students repeatedly and stores the names in a list. Then, print out a welcome message for each name in the list. Your output should look like this:\n",
    "\n",
    "\n",
    "    Enter the name of a student (Enter q/Q to stop): Mark  \n",
    "    Enter the name of a student (Enter q/Q to stop):  \n",
    "    Enter the name of a student (Enter q/Q to stop): David  \n",
    "    Enter the name of a student (Enter q/Q to stop): q  \n",
    "    Hello Mark, welcome to the course 5002.  \n",
    "    Hello David, welcome to the course 5002."
   ]
  },
  {
   "cell_type": "markdown",
   "metadata": {},
   "source": [
    "2. Given a list of random numbers (rn), pick out the ones that are multiple of 3, and print them in ascending order. You may find the function sorted(list) useful. Your output should look like this:\n",
    "\n",
    "\n",
    "    For list [1,5,3,7,0,25,6], the result is [0,3,6]."
   ]
  },
  {
   "cell_type": "markdown",
   "metadata": {},
   "source": [
    "3. Write a program to let people guess a number (target=9). The input number should be between 0 and 30. If the number is correct, display congratulations; if the number is smaller or larger than the target, display a hint; if the number is out of range, display a warning. Your output should look like this:\n",
    "\n",
    "\n",
    "    Enter a number between 0 and 30: 40  \n",
    "    Number out of range! Try again: 2  \n",
    "    Number is too small, try again: 7  \n",
    "    Number is too small, try again: 9.5  \n",
    "    Number is too large, try again: 9  \n",
    "    You got it!"
   ]
  },
  {
   "cell_type": "markdown",
   "metadata": {},
   "source": [
    "4. Write a program for a sandwich shop to take orders. Ask the customers if they want Cheese sandwich or Veggie sandwich. If they want Veggie sandwich, print 'Here is your Veggie Special sandwich~'. If they want Cheese, ask further if they want Cheddar or Manchego cheese. If they type something else, print 'No such sandwich...'. Your output should look like either of these:\n",
    "\n",
    "\n",
    "    Hi, welcome to our sandwich shop. Please select a sandwich.  \n",
    "    \"c\" for Cheese or \"v\" for Veggie Special: C  \n",
    "    \"c\" for Cheddar or \"m\" for Manchego: M  \n",
    "    Here is your Manchego Cheese sandwich~\n",
    "***********************\n",
    "    Hi, welcome to our sandwich shop. Please select a sandwich.  \n",
    "    \"c\" for Cheese or \"v\" for Veggie Special: v  \n",
    "    Here is your Veggie Special sandwich~"
   ]
  },
  {
   "cell_type": "markdown",
   "metadata": {},
   "source": [
    "5. Write a what-to-wear program that asks for the weather (sunny, rainy, snowy, etc.) input, then print out clothes suggestions. If the weather is sunny, print \"Wear a t-shirt and apply sunscreen\"; if the weather is rainy, print \"Bring an umbrella and wear boots\"; if the weather is snowy, print \"Wear a warm coat and hat\"; if other words (e.g. @@@@) are input, print 'Sorry, not sure what to suggest for @@@@ weather...'. Use a while loop to keep asking for the weather input until one of the following (sunny, rainy, snowy) is given. Your output should look like this:\n",
    "\n",
    "\n",
    "    Enter the weather (sunny, rainy, snowy, etc.): sdf  \n",
    "    Sorry, not sure what to suggest for sdf weather...  \n",
    "    Enter the weather (sunny, rainy, snowy, etc.): sunny  \n",
    "    Wear a t-shirt and apply sunscreen"
   ]
  },
  {
   "cell_type": "markdown",
   "metadata": {},
   "source": [
    "6. Given a random matrix of size 10 by 10, check if there are zeros on the diagonal axis. Your output should print T for true or F for false. Now write a loop that executes this check for 100 times, and get the statistics about how many times the output is True and how many times the output is False. Print out the statistics. You may need the following code to generate a 2D matrix: `matrix=[[randint(-1,3) for i in range(m)] for j in range(m)]`  \n",
    "Your output should look like this:\n",
    "\n",
    "\n",
    "    TTTTTFTTTTTTTTTTTTTFTTFFTTTTTTTTTTTTTFTTTTTTTTTTTTFTTTTTTFTTTTTFTFTFTTTTFTTTTTFFTTTFTTFTTTFFTTTTTTTF  \n",
    "    Among 100 trials, there are 82 True and 18 False."
   ]
  },
  {
   "cell_type": "markdown",
   "metadata": {},
   "source": [
    "7. Goldbach's conjecture states that every even integer greater than 2 can be expressed as the sum of two primes. Write a program to test the Goldbach's conjecture for all the even numbers between 2 and 1000. List the even numbers on the left and the 2 prime numbers on the right. Your output should look like this:\n",
    "\n",
    "\n",
    "    4 = 2 + 2  \n",
    "    6 = 3 + 3  \n",
    "    8 = 3 + 5  \n",
    "    10 = 3 + 7  \n",
    "    12 = 5 + 7  \n",
    "    ...  \n",
    "    100 = 3 + 97  \n",
    "    ..."
   ]
  },
  {
   "cell_type": "markdown",
   "metadata": {},
   "source": [
    "8. Capitalize all words in a title entered, except: a, an, the, at, by, for, in, of, on, to, up, and, as, but, or, nor. Your output should look like this:\n",
    "\n",
    "\n",
    "    Enter a title: Welcome to the world of \"data-driven modeling\" for master students offered by UST in a great and green campus on the hill  \n",
    "    Capitalized: Welcome to the World of \"Data-Driven Modeling\" for Master Students Offered by UST in a Great and Green Campus on the Hill"
   ]
  },
  {
   "cell_type": "markdown",
   "metadata": {},
   "source": [
    "9. Draw a trigonometric table calculated for sin, cos and tan accurate to 3 decimal places in multiples of 10 degrees. All columns should be right aligned. Your output should look like this:\n",
    "\n",
    "\n",
    "    deg\t   sin\t   cos\t   tan  \n",
    "      0\t 0.000\t 1.000\t 0.000  \n",
    "     30\t 0.500\t 0.866\t 0.577\n",
    "     60\t 0.866\t 0.500\t 1.732\n",
    "     90\t 1.000\t 0.000\t undef\n",
    "    120\t 0.866\t-0.500\t-1.732\n",
    "    150\t 0.500\t-0.866\t-0.577\n",
    "    180\t 0.000\t-1.000\t 0.000\n",
    "    210\t-0.500\t-0.866\t 0.577\n",
    "    240\t-0.866\t-0.500\t 1.732\n",
    "    270\t-1.000\t 0.000\t undef\n",
    "    300\t-0.866\t 0.500\t-1.732\n",
    "    330\t-0.500\t 0.866\t-0.577\n",
    "    360\t 0.000\t 1.000\t 0.000"
   ]
  },
  {
   "cell_type": "markdown",
   "metadata": {},
   "source": [
    "10. List the annual extra profit amount up to cents with compount interest rate i.e. the extra interest made each year. Your output should look like this:\n",
    "\n",
    "\n",
    "    Enter a principal amount: 100  \n",
    "    Enter an annual interest rate (%): 10  \n",
    "    Enter the number of years: 5  \n",
    "\n",
    "    Year 1 profit: 10.00  \n",
    "    Year 2 profit: 11.00  \n",
    "    Year 3 profit: 12.10  \n",
    "    Year 4 profit: 13.31  \n",
    "    Year 5 profit: 14.64"
   ]
  },
  {
   "cell_type": "markdown",
   "metadata": {},
   "source": [
    "11. A quadratic equation $ax^2+bx+c=0$ can be solved by the quadratic formula $x=(-b±√(b²-4ac))/(2a)$. Each solution is a root of the quadratic function. Find out the 2 real roots, 1 real root or 2 complex roots of any given quadratic function. Your output should look like one of these:\n",
    "\n",
    "\n",
    "    Enter a quadratic function in ax^2+bx+c: x^2-3x+2  \n",
    "    The roots are 1 and 2  \n",
    "***\n",
    "    Enter a quadratic function in ax^2+bx+c: 4x^2-4x+1  \n",
    "    The root is 0.5  \n",
    "***\n",
    "    Enter a quadratic function in ax^2+bx+c: x^2-2x+2  \n",
    "    The roots are 1-i and 1+i"
   ]
  }
 ],
 "metadata": {
  "kernelspec": {
   "display_name": "Python 3",
   "language": "python",
   "name": "python3"
  },
  "language_info": {
   "codemirror_mode": {
    "name": "ipython",
    "version": 3
   },
   "file_extension": ".py",
   "mimetype": "text/x-python",
   "name": "python",
   "nbconvert_exporter": "python",
   "pygments_lexer": "ipython3",
   "version": "3.7.6"
  }
 },
 "nbformat": 4,
 "nbformat_minor": 2
}
