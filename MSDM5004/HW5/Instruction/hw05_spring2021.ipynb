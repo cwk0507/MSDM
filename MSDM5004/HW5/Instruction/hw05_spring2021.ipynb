{
 "cells": [
  {
   "cell_type": "markdown",
   "metadata": {},
   "source": [
    "# MSDM5004 Homework 5\n",
    "------------------------------------------------------------------------"
   ]
  },
  {
   "cell_type": "markdown",
   "metadata": {},
   "source": [
    "**1.** Write a program to:\n",
    "1.  Evaluate the integral $$I=\\int_0^2\\sin^2\\left[\\frac{1}{x\\left(2-x\\right)}\\right]dx$$ using the\n",
    "    “hit-or-miss” Monte Carlo method with 10,000\n",
    "    points. Also evaluate the error on your estimate. By \"hit-or-miss\" it means generating uniform points in the rectangle $\\left[0,2\\right]\\times\\left[0,1\\right]$ and counting the fraction of points below the graph."
   ]
  },
  {
   "cell_type": "code",
   "execution_count": null,
   "metadata": {},
   "outputs": [],
   "source": [
    "# answer"
   ]
  },
  {
   "cell_type": "markdown",
   "metadata": {},
   "source": [
    "2.  Now estimate the integral again using the standard mean value Monte Carlo integration method with\n",
    "    10,000 points. Also evaluate the error.  \n",
    "You should find that the error is somewhat smaller using the mean value\n",
    "method."
   ]
  },
  {
   "cell_type": "code",
   "execution_count": null,
   "metadata": {},
   "outputs": [],
   "source": [
    "# answer"
   ]
  },
  {
   "cell_type": "markdown",
   "metadata": {},
   "source": [
    "**2.** Construct a general proof that the mean value method\n",
    "always does better, or at least no worse, than the “hit-or-miss” method, as follows.\n",
    "\n",
    "1.  For an integral $I=\\int_a^bf\\left(x\\right)dx$ with $f(x)\\ge0$ everywhere in\n",
    "    the domain of integration, show that the area under the graph estimated by the \"hit-or-miss\" method can be rewritten as\n",
    "    $$I \\simeq (b-a) H\\langle s\\rangle,$$ where $H$ is the vertical\n",
    "    height of the box enclosing the function to be integrated (so that\n",
    "    the box’s area is $A=(b-a)H$) and $\\langle s\\rangle$ is the average\n",
    "    of variables $s_i$ defined such that $s_i=1$ if the $i$th point in\n",
    "    the Monte Carlo procedure was a “hit” (it fell below the curve\n",
    "    of $f(x)$) and $s_i=0$ if it was a “miss.” Hence argue that the\n",
    "    hit-or-miss method will never be more accurate than the mean value\n",
    "    method if the variance of $f$ satisfies\n",
    "    $\\mathrm{var}(f) \\le H^2\\mathrm{var}(s)$."
   ]
  },
  {
   "cell_type": "markdown",
   "metadata": {},
   "source": [
    "`# answer`"
   ]
  },
  {
   "cell_type": "markdown",
   "metadata": {},
   "source": [
    "2.  Show that the variance of a single variable $s_i$ is\n",
    "    $\\mathrm{var}(s) =\n",
    "      p(1-p)$, where $p=I/A$. Show further that\n",
    "    $p=\\langle f\\rangle/H$ and\n",
    "    $H^2\\mathrm{var}(s) = \\langle f\\rangle(H-\\langle f\\rangle)$\n",
    "    and thus that the hit-or-miss method will never be the more accurate\n",
    "    method if $\\langle f(f-H)\\rangle\\le0$. Given that the value of\n",
    "    $f(x)$ never falls outside the interval from 0 to $H$, prove that\n",
    "    this last condition is always true."
   ]
  },
  {
   "cell_type": "markdown",
   "metadata": {},
   "source": [
    "`# answer`"
   ]
  },
  {
   "cell_type": "markdown",
   "metadata": {},
   "source": [
    "The hit-or-miss method can be extended to the case where $f(x)$ is not\n",
    "always positive by adding a constant onto $f(x)$ large enough to make it\n",
    "always positive, calculating the integral of the resulting function,\n",
    "then subtracting the constant again at the end. The proof above can be\n",
    "extended to this case by noting that the variance of $f$ is unaffected\n",
    "by additive constants, and hence the mean value method is always the\n",
    "more accurate of the two integration methods for any function, positive\n",
    "or not."
   ]
  },
  {
   "cell_type": "markdown",
   "metadata": {},
   "source": [
    "**3.** Consider the function $f(x) = x^2 -\n",
    "\\cos (4\\pi x)$. Clearly the global minimum of this function is at $x=0$.\n",
    "\n",
    "1.  Write a program to confirm this fact using simulated annealing\n",
    "    starting at, say, $x=2$, with Monte Carlo moves of the form $x\\to\n",
    "      x+\\delta$ where $\\delta$ is a random number drawn from a Gaussian\n",
    "    distribution with mean zero and standard deviation one.\n",
    "    Use an exponential cooling schedule and adjust the start\n",
    "    and end temperatures, as well as the exponential constant, until you\n",
    "    find values that give good answers in reasonable time. Have your\n",
    "    program make a plot of the values of $x$ as a function of time\n",
    "    during the run and have it print out the final value of $x$ at the\n",
    "    end. You will find the plot easier to interpret if you make it using\n",
    "    dots rather than lines, with a statement of the form `plot(x,\".\")`\n",
    "    or similar."
   ]
  },
  {
   "cell_type": "code",
   "execution_count": null,
   "metadata": {},
   "outputs": [],
   "source": [
    "# answer"
   ]
  },
  {
   "cell_type": "markdown",
   "metadata": {},
   "source": [
    "2.  Now adapt your program to find the minimum of the more complicated\n",
    "    function $f(x) = \\cos x + \\cos (\\sqrt2x) + \\cos (\\sqrt3 x)$ in the range\n",
    "    $0<x<50$.\n",
    "\n",
    "    Hint: The correct answer is around $x=16$, but there are\n",
    "    also competing minima around $x=2$ and $x=42$ that your program might\n",
    "    find. In real-world situations, it is often good enough to find any\n",
    "    reasonable solution to a problem, not necessarily the absolute best, so\n",
    "    the fact that the program sometimes settles on these other solutions is\n",
    "    not necessarily a bad thing."
   ]
  },
  {
   "cell_type": "code",
   "execution_count": null,
   "metadata": {},
   "outputs": [],
   "source": [
    "# answer"
   ]
  }
 ],
 "metadata": {
  "kernelspec": {
   "display_name": "Python 3",
   "language": "python",
   "name": "python3"
  },
  "language_info": {
   "codemirror_mode": {
    "name": "ipython",
    "version": 3
   },
   "file_extension": ".py",
   "mimetype": "text/x-python",
   "name": "python",
   "nbconvert_exporter": "python",
   "pygments_lexer": "ipython3",
   "version": "3.8.5"
  }
 },
 "nbformat": 4,
 "nbformat_minor": 5
}
