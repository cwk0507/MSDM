{
 "cells": [
  {
   "cell_type": "markdown",
   "metadata": {},
   "source": [
    "# MSDM5004 Assignment 4\n",
    "------------------------------------------------------------------------"
   ]
  },
  {
   "cell_type": "markdown",
   "metadata": {},
   "source": [
    "**1.** In Canvas Files → Part II Homework → Assignment 4, you will find files called `piano.txt` and\n",
    "`trumpet.txt`, which contain data representing the waveform of a single\n",
    "note, played on, respectively, a piano and a trumpet.\n",
    "\n",
    "1.  Write a program that loads a waveform from one of these files, plots\n",
    "    it, then calculates its discrete Fourier transform and plots the\n",
    "    magnitudes of the first $10\\,000$ coefficients. Note that you will have to use a fast Fourier transform\n",
    "    for the calculation because there are too many samples in the files\n",
    "    to do the transforms the slow way in any reasonable amount of time.\n",
    "\n",
    "    Apply your program to the piano and trumpet waveforms and discuss\n",
    "    briefly what one can conclude about the sound of the piano and\n",
    "    trumpet from the plots of Fourier coefficients.  "
   ]
  },
  {
   "cell_type": "code",
   "execution_count": null,
   "metadata": {},
   "outputs": [],
   "source": [
    "# answer"
   ]
  },
  {
   "cell_type": "markdown",
   "metadata": {},
   "source": [
    "2.  Both waveforms were recorded at the industry-standard rate of\n",
    "    $44\\,100$ samples per second and both instruments were playing the\n",
    "    same musical note when the recordings were made. From your Fourier\n",
    "    transform results calculate what note they were playing. (Hint: The\n",
    "    musical note middle C has a frequency of $261\\,$Hz.)"
   ]
  },
  {
   "cell_type": "code",
   "execution_count": 14,
   "metadata": {},
   "outputs": [],
   "source": [
    "# answer"
   ]
  },
  {
   "cell_type": "markdown",
   "metadata": {},
   "source": [
    "**2.** In Canvas Files → Part II Homework → Assignment 4, you’ll find a file called `dow.txt`. It\n",
    "contains the daily closing value for each business day from late 2006\n",
    "until the end of 2010 of the Dow Jones Industrial Average, which is a\n",
    "measure of average prices on the US stock market.\n",
    "\n",
    "In the following, you will be asked to write a few programs that apply discrete Fourier\n",
    "transform or discrete cosine transform to the 'Dow' data. Note, since the data is discrete in\n",
    "nature, one may take the frequencies to be from $(-f_c, f_c]$ for DFT and $[0, f_c]$ for DCT.\n",
    "\n",
    "1.  Read in the data from `dow.txt` and plot them on a graph."
   ]
  },
  {
   "cell_type": "code",
   "execution_count": 1,
   "metadata": {},
   "outputs": [],
   "source": [
    "# answer"
   ]
  },
  {
   "cell_type": "markdown",
   "metadata": {},
   "source": [
    "2.  Calculate the coefficients of the discrete Fourier transform of the\n",
    "    data."
   ]
  },
  {
   "cell_type": "code",
   "execution_count": null,
   "metadata": {},
   "outputs": [],
   "source": [
    "# answer"
   ]
  },
  {
   "cell_type": "markdown",
   "metadata": {},
   "source": [
    "3.  Now set all but the 20% of the coefficients with lowest frequencies ($\\left|f\\right|$) to zero\n",
    "    (i.e., set the 80% of the higher frequency modes to zero)."
   ]
  },
  {
   "cell_type": "code",
   "execution_count": 2,
   "metadata": {},
   "outputs": [],
   "source": [
    "# answer"
   ]
  },
  {
   "cell_type": "markdown",
   "metadata": {},
   "source": [
    "4.  Calculate the inverse Fourier transform of the resulting array,\n",
    "    zeros and all, and plot it on the same\n",
    "    graph as the original data. You may need to vary the colors of the\n",
    "    two curves to make sure they both show up on the graph. Comment on\n",
    "    what you see. What is happening when you set the Fourier\n",
    "    coefficients to zero?  \n",
    "    Hint: The original data is real in nature, which should be preserved after dropping higher frequency modes.\n",
    "    If your resultant signal here acquires noticeable imaginary part, the way you have processed the data in the previous step may be improper."
   ]
  },
  {
   "cell_type": "code",
   "execution_count": null,
   "metadata": {},
   "outputs": [],
   "source": [
    "# answer"
   ]
  },
  {
   "cell_type": "markdown",
   "metadata": {},
   "source": [
    "5.  Modify your program so that it sets all but the 4% of the\n",
    "    coefficients with lowest frequencies ($\\left|f\\right|$) to zero and run it again.    "
   ]
  },
  {
   "cell_type": "code",
   "execution_count": null,
   "metadata": {},
   "outputs": [],
   "source": [
    "# answer"
   ]
  },
  {
   "cell_type": "markdown",
   "metadata": {},
   "source": [
    "The particular time period of `dow.txt` was special in one sense: the value of the Dow at the end of the period was almost the same\n",
    "as at the start, so the function was, roughly speaking, periodic. In the same folder there is another file called `dow2.txt`, which also\n",
    "contains data on the Dow but for a different time period, from 2004 until 2008. Over this period the value changed considerably from a\n",
    "starting level around 9000 to a final level around 14000.\n",
    "    \n",
    "6.  Write a program similar to the one for part (5), in\n",
    "    which you read the data in the file `dow2.txt` and plot it on a\n",
    "    graph. Then smooth the data by calculating its Fourier transform,\n",
    "    setting all but 4% of the coefficients with lowest frequencies ($\\left|f\\right|$) to zero, and\n",
    "    inverting the transform again, plotting the result on the same graph\n",
    "    as the original data. As above you should see that the\n",
    "    data are smoothed, but now there will be an additional artifact. At\n",
    "    the beginning and end of the plot you should see large deviations\n",
    "    away from the true smoothed function. These occur because the\n",
    "    function is required to be periodic—its last value must be the same\n",
    "    as its first—so it needs to deviate substantially from the correct\n",
    "    value to make the two ends of the function meet. In some situations\n",
    "    (including this one) this behavior is unsatisfactory. If we want to\n",
    "    use the Fourier transform for smoothing, we would certainly prefer\n",
    "    that it not introduce artifacts of this kind."
   ]
  },
  {
   "cell_type": "code",
   "execution_count": null,
   "metadata": {},
   "outputs": [],
   "source": [
    "# answer"
   ]
  },
  {
   "cell_type": "markdown",
   "metadata": {},
   "source": [
    "7.  Modify your program to repeat the same analysis using discrete\n",
    "    cosine transforms. Again discard all but the 4% of the coefficients with lowest frequencies ($\\left|f\\right|$),\n",
    "    invert the transform, and plot the result.\n",
    "    You should see a significant improvement, with less distortion of\n",
    "    the function at the ends of the interval. This occurs because the cosine transform does not\n",
    "    force the value of the function to be the same at both ends."
   ]
  },
  {
   "cell_type": "code",
   "execution_count": null,
   "metadata": {},
   "outputs": [],
   "source": [
    "# answer"
   ]
  },
  {
   "cell_type": "markdown",
   "metadata": {},
   "source": [
    "It is because of the artifacts introduced by the strict periodicity of\n",
    "the DFT that the cosine transform is favored for many technological\n",
    "applications, such as audio compression. The artifacts can degrade the\n",
    "sound quality of compressed audio and the cosine transform generally\n",
    "gives better results.\n",
    "\n",
    "The cosine transform is not wholly free of artifacts itself however.\n",
    "It’s true it does not force the function to be periodic, but it does\n",
    "force the gradient to be zero at the ends of the interval (which the\n",
    "ordinary Fourier transform does not). You may be able to see this in\n",
    "your calculations for part (7) above. Look closely at the smoothed\n",
    "function and you should see that its slope is flat at the beginning and\n",
    "end of the interval. The distortion of the function introduced is less\n",
    "than the distortion in part (6), but it’s there all the same. To reduce\n",
    "this effect, audio compression schemes often use overlapped cosine\n",
    "transforms, in which transforms are performed on overlapping blocks of\n",
    "samples, so that the portions at the ends of blocks, where the worst\n",
    "artifacts lie, need not be used."
   ]
  },
  {
   "cell_type": "markdown",
   "metadata": {},
   "source": [
    "8.  The function $f(t)$ represents a square-wave with amplitude 1 and\n",
    "    frequency $1\\,$Hz: $$f(t) = \\left\\lbrace\\begin{array}{rl}\n",
    "              1  & \\qquad\\mbox{if $\\lfloor 2t \\rfloor$ is even,} \\\\\n",
    "             -1  & \\qquad\\mbox{if $\\lfloor 2t \\rfloor$ is odd,}\n",
    "           \\end{array}\\right.$$ where $\\lfloor x\\rfloor$ means $x$ rounded\n",
    "    down to the next lowest integer. Let us attempt to smooth this function\n",
    "    using a Fourier transform, as we did in the previous parts. Write a\n",
    "    program that creates an array of $N=1000$ elements containing a thousand\n",
    "    equally spaced samples from a single cycle of this square-wave.\n",
    "    Calculate the discrete Fourier transform of the array. Now set all but\n",
    "    the first ten Fourier coefficients to zero, then invert the Fourier\n",
    "    transform again to recover the smoothed signal. Make a plot of the\n",
    "    result and on the same axes show the original square-wave as well. You\n",
    "    should find that the signal is not simply smoothed—there are artifacts,\n",
    "    wiggles, in the results. Explain briefly where these come from.  \n",
    "\n",
    "Artifacts similar to these arise when Fourier coefficients are discarded\n",
    "in audio and visual compression schemes and are the primary source of imperfections in digitally\n",
    "compressed sound and images."
   ]
  },
  {
   "cell_type": "code",
   "execution_count": null,
   "metadata": {},
   "outputs": [],
   "source": [
    "# answer"
   ]
  },
  {
   "cell_type": "markdown",
   "metadata": {},
   "source": [
    "**3.** You’ve probably seen it on TV, in one of those crime drama shows. They\n",
    "have a blurry photo of a crime scene and they click a few buttons on the\n",
    "computer and magically the photo becomes sharp and clear, so you can\n",
    "make out someone’s face, or some lettering on a sign. Surely (like\n",
    "almost everything else on such TV shows) this is just science fiction?\n",
    "Actually, no. It’s not. It’s real and in this exercise you’ll write a\n",
    "program that does it.\n",
    "\n",
    "When a photo is blurred each point on the photo gets smeared out\n",
    "according to some “smearing distribution,” which is technically called a\n",
    "*point spread function*. We can represent this smearing mathematically\n",
    "as follows. For simplicity let’s assume we’re working with a black and\n",
    "white photograph, so that the picture can be represented by a single\n",
    "function $a(x,y)$ which tells you the brightness at each point $(x,y)$.\n",
    "And let us denote the point spread function by $f(x,y)$. This means that\n",
    "a single bright dot at the origin ends up appearing as $f(x,y)$ instead.\n",
    "If $f(x,y)$ is a broad function then the picture is badly blurred. If it\n",
    "is a narrow peak then the picture is relatively sharp.\n",
    "\n",
    "In general the brightness $b(x,y)$ of the blurred photo at point $(x,y)$\n",
    "is given by\n",
    "$$b(x,y) = \\int_0^K \\int_0^L a(x',y') f(x-x',y-y') \\>\\mathrm{d}x'\\>\\mathrm{d}y',$$\n",
    "where $K\\times L$ is the dimension of the picture. This equation is\n",
    "called the *convolution* of the picture with the point spread function.\n",
    "\n",
    "Working with two-dimensional functions can get complicated, so to get\n",
    "the idea of how the math works, let’s switch temporarily to a\n",
    "one-dimensional equivalent of our problem. Once we work out the details\n",
    "in 1D we’ll return to the 2D version. The one-dimensional version of the\n",
    "convolution above would be\n",
    "$$b(x) = \\int_0^L a(x') f(x-x') \\>\\mathrm{d}x'.$$ The function $b(x)$\n",
    "can be represented by a Fourier series:\n",
    "$$b(x) = \\sum_{k=-\\infty}^\\infty\n",
    "         \\tilde{b}_k \\exp\\biggl( \\mathrm{i}{2\\pi k x\\over L} \\biggr),$$\n",
    "where $$\\tilde{b}_k = {1\\over L} \\int_0^L b(x)\n",
    "                         \\exp\\biggl( -\\mathrm{i}{2\\pi k x\\over L} \\biggr) \\>\\mathrm{d}x$$\n",
    "are the Fourier coefficients. Substituting for $b(x)$ in this equation\n",
    "gives $$\\begin{aligned}\n",
    "\\tilde{b}_k &= {1\\over L} \\int_0^L \\int_0^L a(x') f(x-x')\n",
    "                         \\exp\\biggl( -\\mathrm{i}{2\\pi k x\\over L} \\biggr)\n",
    "                         \\>\\mathrm{d}x'\\>\\mathrm{d}x \\\\\n",
    "            &= {1\\over L} \\int_0^L \\int_0^L a(x') f(x-x')\n",
    "                         \\exp\\biggl( -\\mathrm{i}{2\\pi k (x-x')\\over L} \\biggr)\n",
    "                         \\exp\\biggl( -\\mathrm{i}{2\\pi k x'\\over L} \\biggr)\n",
    "                         \\>\\mathrm{d}x'\\>\\mathrm{d}x.\\end{aligned}$$ Now\n",
    "let us change variables to $X=x-x'$, and we get\n",
    "$$\\tilde{b}_k = {1\\over L} \\int_0^L a(x')\n",
    "                         \\exp\\biggl( -\\mathrm{i}{2\\pi k x'\\over L} \\biggr)\n",
    "                         \\int_{-x'}^{L-x'} f(X)\n",
    "                         \\exp\\biggl( -\\mathrm{i}{2\\pi k X\\over L} \\biggr) \\>\\mathrm{d}X\n",
    "                         \\>\\mathrm{d}x'.$$\n",
    "                         \n",
    "Usually, the point spread function $f(X)$ is sharply peaked at X = 0 with narrow width\n",
    "(e.g., a Gaussian) related to the scope that a point image at $X = 0$ gets smeared out. Due to\n",
    "this spreading effect, the support of the blurred image is always greater than the size of the\n",
    "actual image. One solution is to approximate the linear convolution by circular convolution,\n",
    "using the periodic summation of $a(x)$ and $f(X)$. The derivations above is in fact based on\n",
    "this approximation. The periodic summation of $a(x)$, which has finite support from 0 to L,\n",
    "is simply the indefinite periodic repetition of the true picture. For sharply peaked PSF with\n",
    "width much smaller than $L$, its periodic summation can be approximated by simply repeating\n",
    "the function from $[-L/2, L/2)$ repeatedly with period $L$. Since the circular convolution above\n",
    "was evaluated in $[0, L)$, in $[L/2, L)$ the periodic summation of the PSF is just the PSF in\n",
    "$[-L/2, 0)$. With such periodic summation, one can replace the integration from $-x'$ to $0$ by\n",
    "that from $L - x'$ to $L$. Then the second integral above can be written as\n",
    "\n",
    "\n",
    "$$\\begin{aligned}\n",
    "\\int_{-x'}^{L-x'} f(X) \\exp\\biggl( -\\mathrm{i}{2\\pi k X\\over L} \\biggr) \\>\\mathrm{d}X\n",
    "&= \\int_{-x'}^0 f(X) \\exp\\biggl( -\\mathrm{i}{2\\pi k X\\over L} \\biggr) \\>\\mathrm{d}X\n",
    "   \\\\\n",
    "&\\hspace{5em}{} + \\int_0^{L-x'} f(X) \\exp\\biggl( -\\mathrm{i}{2\\pi k X\\over L}\n",
    "   \\biggr) \\>\\mathrm{d}X \\\\\n",
    "&\\hspace{-12em} {} = \\exp\\biggl( \\mathrm{i}{2\\pi k L\\over L} \\biggr)\n",
    "   \\int_{L-x'}^L f(X) \\exp\\biggl( -\\mathrm{i}{2\\pi k X\\over L} \\biggr) \\>\\mathrm{d}X\n",
    "   + \\int_0^{L-x'} f(X) \\exp\\biggl( -\\mathrm{i}{2\\pi k X\\over L} \\biggr) \\>\\mathrm{d}X\n",
    "   \\\\\n",
    "&\\hspace{-12em} {} = \\int_0^L f(X)\n",
    "                    \\exp\\biggl( -\\mathrm{i}{2\\pi k X\\over L} \\biggr) \\>\\mathrm{d}X,\\end{aligned}$$\n",
    "which is simply $L$ times the Fourier transform $\\tilde{f}_k$ of $f(x)$.\n",
    "Substituting this result back into our equation for $\\tilde{b}_k$ we\n",
    "then get $$\\tilde{b}_k = \\int_0^L a(x')\n",
    "              \\exp\\biggl( -\\mathrm{i}{2\\pi k x'\\over L} \\biggr)\n",
    "              \\tilde{f}_k \\>\\mathrm{d}x'\n",
    "            = L\\,\\tilde{a}_k\\tilde{f}_k.$$ In other words, apart from\n",
    "the factor of $L$, the Fourier transform of the blurred photo is the\n",
    "product of the Fourier transforms of the unblurred photo and the point\n",
    "spread function.\n",
    "\n",
    "Now it is clear how we deblur our picture. We take the blurred picture\n",
    "and Fourier transform it to get $\\tilde{b}_k =\n",
    "L\\,\\tilde{a}_k\\tilde{f}_k$. We also take the point spread function and\n",
    "Fourier transform it to get $\\tilde{f}_k$. Then we divide one by the\n",
    "other: $${\\tilde{b}_k\\over L\\tilde{f}_k} = \\tilde{a}_k$$ which gives us\n",
    "the Fourier transform of the *unblurred* picture. Then, finally, we do\n",
    "an inverse Fourier transform on $\\tilde{a}_k$ to get back the unblurred\n",
    "picture. This process of recovering the unblurred picture from the\n",
    "blurred one, of reversing the convolution process, is called\n",
    "*deconvolution*.\n",
    "\n",
    "Real pictures are two-dimensional, but the mathematics follows through\n",
    "exactly the same. For a picture of dimensions $K\\times L$ we find that\n",
    "the two-dimensional Fourier transforms are related by\n",
    "$$\\tilde{b}_{kl} =  KL\\tilde{a}_{kl}\\tilde{f}_{kl}\\,,$$ and again we\n",
    "just divide the blurred Fourier transform by the Fourier transform of\n",
    "the point spread function to get the Fourier transform of the unblurred\n",
    "picture.\n",
    "\n",
    "In the digital realm of computers, pictures are not pure\n",
    "functions $f(x,y)$ but rather grids of samples, and our Fourier\n",
    "transforms are discrete transforms not continuous ones. But the math\n",
    "works out the same again.\n",
    "\n",
    "The main complication with deblurring in practice is that we don’t\n",
    "usually know the point spread function. Typically we have to experiment\n",
    "with different ones until we find something that works. For many cameras\n",
    "it’s a reasonable approximation to assume the point spread function is\n",
    "Gaussian: $$f(x,y) = \\exp\\biggl( -{x^2+y^2\\over2\\sigma^2} \\biggr),$$\n",
    "where $\\sigma$ is the width of the Gaussian. Even with this assumption,\n",
    "however, we still don’t know the value of $\\sigma$ and we may have to\n",
    "experiment to find a value that works well. In the following exercise,\n",
    "for simplicity, we’ll assume we know the value of $\\sigma$.\n",
    "\n",
    "1.  In Canvas Files → Part II Homework → Assignment 4, you'll find a file called `blur.txt` that contains\n",
    "    a square grid of values representing brightness on a black-and-white\n",
    "    photo—a badly out-of-focus one that has been deliberately blurred\n",
    "    using a Gaussian point spread function of width $\\sigma=25$. Write a\n",
    "    program that reads the grid of values into a two-dimensional array\n",
    "    of real numbers and then draws the values on the screen of the\n",
    "    computer as a density plot. You should see the photo appear. If you\n",
    "    get something wrong it might be upside-down. Work with the details\n",
    "    of your program until you get it appearing correctly. (Hint: The\n",
    "    picture has the sky, which is bright, at the top and the ground,\n",
    "    which is dark, at the bottom.)"
   ]
  },
  {
   "cell_type": "code",
   "execution_count": 14,
   "metadata": {},
   "outputs": [],
   "source": [
    "# answer"
   ]
  },
  {
   "attachments": {
    "image.png": {
     "image/png": "[encoded data removed]"
    }
   },
   "cell_type": "markdown",
   "metadata": {},
   "source": [
    "2.  Write another program that creates an array, of the same size as the\n",
    "    photo, containing a grid of samples drawn from the Gaussian $f(x,y)$\n",
    "    above with $\\sigma=25$. Make a density plot of these values on the\n",
    "    screen too, so that you get a visualization of your point spread\n",
    "    function. Remember that the point spread function is periodic (along\n",
    "    both axes), which means that the values for negative $x$ and $y$ are\n",
    "    repeated at the end of the interval. Since the Gaussian is centered\n",
    "    on the origin, this means there should be bright patches in each of\n",
    "    the four corners of your picture, something like this:\n",
    "![image.png](attachment:image.png)"
   ]
  },
  {
   "cell_type": "code",
   "execution_count": null,
   "metadata": {},
   "outputs": [],
   "source": [
    "# answer"
   ]
  },
  {
   "cell_type": "markdown",
   "metadata": {},
   "source": [
    "3.  Combine your two programs and add Fourier transforms to make a program\n",
    "    that does the following:\n",
    "\n",
    "    1.  Reads in the blurred photo\n",
    "\n",
    "    2.  Calculates the point spread function\n",
    "\n",
    "    3.  Fourier transforms both\n",
    "\n",
    "    4.  Divides one by the other\n",
    "\n",
    "    5.  Performs an inverse transform to get the unblurred photo\n",
    "\n",
    "    6.  Displays the unblurred photo on the screen\n",
    "\n",
    "    When you are done, you should be able to make out the scene in the\n",
    "    photo, although probably it will still not be perfectly sharp.\n",
    "\n",
    "    Hint: One thing you’ll need to deal with is what happens when the\n",
    "    Fourier transform of the point spread function is zero, or close to\n",
    "    zero. In that case if you divide by it you’ll get an error (because\n",
    "    you can’t divide by zero) or just a very large number (because\n",
    "    you’re dividing by something small). A workable compromise is that\n",
    "    if a value in the Fourier transform of the point spread function is\n",
    "    smaller than a certain amount $\\epsilon$ you don’t divide by it—just\n",
    "    leave that coefficient alone. The value of $\\epsilon$ is not very\n",
    "    critical but a reasonable value seems to be $10^{-3}$.  "
   ]
  },
  {
   "cell_type": "code",
   "execution_count": 13,
   "metadata": {},
   "outputs": [],
   "source": [
    "# answer"
   ]
  },
  {
   "cell_type": "markdown",
   "metadata": {},
   "source": [
    "4.  Bearing in mind this last point about zeros in the Fourier\n",
    "    transform, what is it that limits our ability to deblur a photo? Why\n",
    "    can we not perfectly unblur any photo and make it completely sharp?"
   ]
  },
  {
   "cell_type": "markdown",
   "metadata": {},
   "source": [
    "\\# answer"
   ]
  },
  {
   "cell_type": "markdown",
   "metadata": {},
   "source": [
    "We have seen this process in action here for a normal snapshot, but it\n",
    "is also used in many physics applications where one takes photos. For\n",
    "instance, it is used in astronomy to enhance photos taken by telescopes.\n",
    "It was famously used with images from the Hubble Space Telescope after\n",
    "it was realized that the telescope’s main mirror had a serious\n",
    "manufacturing flaw and was returning blurry photos—scientists managed to\n",
    "partially correct the blurring using Fourier transform techniques."
   ]
  }
 ],
 "metadata": {
  "kernelspec": {
   "display_name": "Python 3",
   "language": "python",
   "name": "python3"
  },
  "language_info": {
   "codemirror_mode": {
    "name": "ipython",
    "version": 3
   },
   "file_extension": ".py",
   "mimetype": "text/x-python",
   "name": "python",
   "nbconvert_exporter": "python",
   "pygments_lexer": "ipython3",
   "version": "3.7.6"
  }
 },
 "nbformat": 4,
 "nbformat_minor": 5
}
