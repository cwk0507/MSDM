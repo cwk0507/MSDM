{
 "cells": [
  {
   "cell_type": "markdown",
   "id": "contrary-motel",
   "metadata": {},
   "source": [
    "# API practice homework\n",
    "\n",
    "First read the API document about the covid data written by the UK government in \n",
    "\n",
    "https://coronavirus.data.gov.uk/details/developers-guide.\n",
    "\n",
    "Take a look to these things before start:\n",
    "1. What is the main end node of this API?\n",
    "2. Which parameters are required to pass into `requests.get()`?\n",
    "3. Do you need a request header?\n",
    "4. Do you need to go through any authentication process?\n",
    "5. Do you need to deal with pagination? \n",
    "\n",
    "\n",
    "**Question:** Write a HTTP request by `requests.get()` to fetch some data: \n",
    "\n",
    "- The daily number of people receiving the first and second dose in Scotland.\n",
    "- The daily cummulative number of people receiving the first and second dose in Scotland.\n",
    "\n",
    "_Hint: You need to search the whole site (not only the develoer's page) to find out what are the metrics' names for the vaccine data._\n",
    "\n",
    "Checking: The oldest data available is from 10-Jan-2021."
   ]
  },
  {
   "cell_type": "code",
   "execution_count": null,
   "id": "fiscal-model",
   "metadata": {},
   "outputs": [],
   "source": [
    "import requests\n",
    "\n",
    "# Write your request here\n",
    "\n",
    "\n",
    "\n",
    "# At the end, display your data by pretty printing."
   ]
  }
 ],
 "metadata": {
  "kernelspec": {
   "display_name": "Python 3",
   "language": "python",
   "name": "python3"
  },
  "language_info": {
   "codemirror_mode": {
    "name": "ipython",
    "version": 3
   },
   "file_extension": ".py",
   "mimetype": "text/x-python",
   "name": "python",
   "nbconvert_exporter": "python",
   "pygments_lexer": "ipython3",
   "version": "3.8.5"
  }
 },
 "nbformat": 4,
 "nbformat_minor": 5
}
