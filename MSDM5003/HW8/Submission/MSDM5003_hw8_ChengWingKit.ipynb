{
 "cells": [
  {
   "cell_type": "code",
   "execution_count": 1,
   "metadata": {},
   "outputs": [],
   "source": [
    "import pandas as pd\n",
    "import numpy as np\n",
    "from sklearn.linear_model import LinearRegression\n",
    "import matplotlib.pyplot as plt\n",
    "from scipy.stats import t\n",
    "from numpy.linalg import inv\n",
    "from numpy import matmul\n",
    "\n",
    "data_url = \"http://lib.stat.cmu.edu/datasets/boston\"\n",
    "header = ['CRIM','ZN','INDUS','CHAS','NOX','RM','AGE','DIS','RAD','TAX','PTRATIO','B','LSTAT','MEDV']\n",
    "raw_df = pd.read_csv(data_url, sep=\"\\s+\", skiprows=22, header=None)\n",
    "df = pd.DataFrame(np.hstack([raw_df.values[::2, :], raw_df.values[1::2, :3]]), columns=header)"
   ]
  },
  {
   "cell_type": "markdown",
   "metadata": {},
   "source": [
    "# Part (A) Simple linear regression"
   ]
  },
  {
   "cell_type": "code",
   "execution_count": 2,
   "metadata": {},
   "outputs": [
    {
     "name": "stdout",
     "output_type": "stream",
     "text": [
      "Beta0 = 34.55\n",
      "Beta1 = -0.95\n"
     ]
    },
    {
     "data": {
      "image/png": "[encoded data removed]",
      "text/plain": [
       "<Figure size 432x288 with 1 Axes>"
      ]
     },
     "metadata": {
      "needs_background": "light"
     },
     "output_type": "display_data"
    },
    {
     "name": "stdout",
     "output_type": "stream",
     "text": [
      "95% confidence interval of beta0 = [33.45,35.66]\n",
      "95% confidence interval of beta1 = [-1.03,-0.87]\n",
      "95% confidence interval of expected MEDV for LSTAT = 4 is [29.90,31.61]\n",
      "95% prediction interval of MEDV for LSTAT = 4 is [18.51,43.00]\n",
      "95% confidence interval of expected MEDV for LSTAT = 10 is [24.47,25.63]\n",
      "95% prediction interval of MEDV for LSTAT = 10 is [12.83,37.28]\n",
      "95% confidence interval of expected MEDV for LSTAT = 14 is [20.70,21.81]\n",
      "95% prediction interval of MEDV for LSTAT = 14 is [9.03,33.48]\n"
     ]
    }
   ],
   "source": [
    "X = np.array(df.LSTAT).reshape(-1,1)\n",
    "y = df.MEDV\n",
    "reg = LinearRegression().fit(np.array(X), y)\n",
    "beta0 = reg.intercept_\n",
    "beta1 = reg.coef_[0]\n",
    "print(f'Beta0 = {beta0:.2f}')\n",
    "print(f'Beta1 = {beta1:.2f}')\n",
    "\n",
    "plt.scatter(X, y, c='b', marker='.', label='data')\n",
    "xx = np.linspace(X.min(), X.max(), 100)\n",
    "yy = beta1*xx + beta0\n",
    "plt.plot(xx, yy, 'r-', label='Regression line')\n",
    "plt.legend()\n",
    "plt.xlabel('LSTAT')\n",
    "plt.ylabel('MEDV')\n",
    "plt.title('LSTAT and MEDV scatter plot')\n",
    "plt.show()\n",
    "\n",
    "n = len(X)\n",
    "yhat = reg.predict(X)\n",
    "RSS = ((y-yhat)**2).sum()\n",
    "s = (RSS/(n-2))**(1/2)\n",
    "xbar = X.mean()\n",
    "SSRx = ((X-xbar)**2).sum()\n",
    "ci_beta1 = [beta1-t.ppf(0.975,n-2)*s/SSRx**(1/2), beta1+t.ppf(0.975,n-2)*s/SSRx**(1/2)]\n",
    "ci_beta0 = [beta0-t.ppf(0.975,n-2)*s*(1/n+xbar**2/SSRx)**(1/2), beta0+t.ppf(0.975,n-2)*s*(1/n+xbar**2/SSRx)**(1/2)]\n",
    "\n",
    "print(f'95% confidence interval of beta0 = [{ci_beta0[0]:.2f},{ci_beta0[1]:.2f}]')\n",
    "print(f'95% confidence interval of beta1 = [{ci_beta1[0]:.2f},{ci_beta1[1]:.2f}]')\n",
    "\n",
    "xxp = [4,10,14]\n",
    "ybarhat = reg.predict(np.array(xxp).reshape(-1,1))\n",
    "XX = np.concatenate([np.ones((506,1)),X], axis=1)\n",
    "XXI = inv(matmul(XX.T,XX))\n",
    "p = 1\n",
    "\n",
    "for idx, value in enumerate(xxp):\n",
    "    x = np.array([1,value])\n",
    "    ci_ybar = [ybarhat[idx]-t.ppf(0.975,n-p-1)*s*(matmul(matmul(x,XXI),x.T))**(1/2), ybarhat[idx]+t.ppf(0.975,n-p-1)*s*(matmul(matmul(x,XXI),x.T))**(1/2)]\n",
    "    pi_ybar = [ybarhat[idx]-t.ppf(0.975,n-p-1)*s*(matmul(matmul(x,XXI),x.T)+1)**(1/2), ybarhat[idx]+t.ppf(0.975,n-p-1)*s*(matmul(matmul(x,XXI),x.T)+1)**(1/2)]\n",
    "    print(f'95% confidence interval of expected MEDV for LSTAT = {value} is [{ci_ybar[0]:.2f},{ci_ybar[1]:.2f}]')\n",
    "    print(f'95% prediction interval of MEDV for LSTAT = {value} is [{pi_ybar[0]:.2f},{pi_ybar[1]:.2f}]')"
   ]
  },
  {
   "cell_type": "markdown",
   "metadata": {},
   "source": [
    "# Part (B) Multiple linear regression"
   ]
  },
  {
   "cell_type": "code",
   "execution_count": 3,
   "metadata": {},
   "outputs": [
    {
     "name": "stdout",
     "output_type": "stream",
     "text": [
      "Beta0 = 33.22\n",
      "Beta1 = -1.03\n",
      "Beta2 = 0.03\n",
      "R^2 = 0.55\n"
     ]
    }
   ],
   "source": [
    "X = np.array(df[['LSTAT','AGE']])\n",
    "y = df.MEDV\n",
    "reg = LinearRegression().fit(np.array(X), y)\n",
    "beta0 = reg.intercept_\n",
    "beta1 = reg.coef_[0]\n",
    "beta2 = reg.coef_[1]\n",
    "print(f'Beta0 = {beta0:.2f}')\n",
    "print(f'Beta1 = {beta1:.2f}')\n",
    "print(f'Beta2 = {beta2:.2f}')\n",
    "\n",
    "yhat = reg.predict(X)\n",
    "ybar = y.mean()\n",
    "TSS = ((y-ybar)**2).sum()\n",
    "SSR = ((yhat-ybar)**2).sum()\n",
    "SSE = ((y-yhat)**2).sum()\n",
    "Rsquared = 1 - SSE/TSS\n",
    "print(f'R^2 = {Rsquared:.2f}')"
   ]
  },
  {
   "cell_type": "code",
   "execution_count": null,
   "metadata": {},
   "outputs": [],
   "source": []
  }
 ],
 "metadata": {
  "kernelspec": {
   "display_name": "Python 3",
   "language": "python",
   "name": "python3"
  },
  "language_info": {
   "codemirror_mode": {
    "name": "ipython",
    "version": 3
   },
   "file_extension": ".py",
   "mimetype": "text/x-python",
   "name": "python",
   "nbconvert_exporter": "python",
   "pygments_lexer": "ipython3",
   "version": "3.7.6"
  }
 },
 "nbformat": 4,
 "nbformat_minor": 4
}
